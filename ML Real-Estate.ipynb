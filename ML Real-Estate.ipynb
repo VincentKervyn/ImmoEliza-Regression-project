{
 "cells": [
  {
   "cell_type": "markdown",
   "id": "76e827a5-5138-4fb5-997d-ef2fc6f3e591",
   "metadata": {},
   "source": [
    "<h1> DATA CLEANING </h1>"
   ]
  },
  {
   "cell_type": "code",
   "execution_count": 289,
   "id": "fb6a9801-5421-44df-94da-9a2929e2f245",
   "metadata": {},
   "outputs": [],
   "source": [
    "import seaborn as sns\n",
    "import matplotlib.pyplot as plt\n",
    "import matplotlib.ticker as ticker\n",
    "import pandas as pd\n",
    "import numpy as np\n",
    "\n",
    "%matplotlib inline"
   ]
  },
  {
   "cell_type": "code",
   "execution_count": 290,
   "id": "2f0da07e-6a19-4f45-87a6-d30569ca5c09",
   "metadata": {},
   "outputs": [
    {
     "data": {
      "text/plain": [
       "Index(['type', 'subtype', 'price', 'postalCode', 'locality', 'condition',\n",
       "       'facadeCount', 'isFurnished', 'bedroomCount', 'netHabitableSurface',\n",
       "       'kitchen', 'hasTerrace', 'terraceSurface', 'hasGarden', 'gardenSurface',\n",
       "       'hasSwimmingPool', 'fireplaceExists'],\n",
       "      dtype='object')"
      ]
     },
     "execution_count": 290,
     "metadata": {},
     "output_type": "execute_result"
    }
   ],
   "source": [
    "df = pd.read_csv(\"./clean_data.csv\")\n",
    "df = df.rename(columns={\"Unnamed: 0\": \"index\"})\n",
    "df = df.set_index(\"index\")\n",
    "df.columns"
   ]
  },
  {
   "cell_type": "code",
   "execution_count": 291,
   "id": "6e474eae-d25d-4170-8fd5-8df8c23fe07b",
   "metadata": {},
   "outputs": [],
   "source": [
    "for column in df.columns.to_list():\n",
    "    df[column] = df[column].apply(lambda x:int(eval(x)) if x in ['True', 'False'] else x)\n",
    "    df[column] = df[column].apply(lambda x:int(x) if x in [True, False] else x)\n",
    "\n",
    "\n",
    "df.drop(df[df.subtype == 'APARTMENT_BLOCK'].index, axis=0, inplace=True)\n",
    "df.drop(['terraceSurface', 'gardenSurface', \"isFurnished\", 'facadeCount'], axis=1, inplace=True)\n",
    "\n",
    "df.loc[df.kitchen.isin(['USA_SEMI_EQUIPPED', 'USA_UNINSTALLED']), 'kitchen'] = 0\n",
    "df.rename(columns={'kitchen':'full_kitchen'}, inplace=True)\n",
    "\n",
    "features = ['type', 'subtype', 'price', 'postalCode', 'condition', 'bedroomCount', 'netHabitableSurface']\n",
    "df.drop_duplicates(subset=features, inplace=True)\n",
    "\n",
    "df.dropna(subset=['price'], inplace=True)\n",
    "df.dropna(subset=['netHabitableSurface'], inplace=True)\n",
    "# df.dropna(subset=['condition'], inplace=True)\n",
    "# df.dropna(subset=['full_kitchen'], inplace=True)\n",
    "\n",
    "for column in ['hasTerrace','hasGarden', 'full_kitchen', 'hasSwimmingPool']:\n",
    "    df[column].fillna(0, inplace=True)\n",
    "df = df.astype({'hasTerrace': int, 'hasGarden': int, 'full_kitchen': int})\n",
    "\n",
    "type_binary = {'HOUSE': 1,\n",
    "               'APARTMENT': 0}\n",
    "\n",
    "df.type = df.type.apply(lambda x:type_binary[x])\n"
   ]
  },
  {
   "cell_type": "code",
   "execution_count": 292,
   "id": "fc2863a7-ca3f-4048-90e2-67cfe52115de",
   "metadata": {
    "tags": []
   },
   "outputs": [],
   "source": [
    "codes = ((\"Brussels Capital Region\", 1000, 1299),\n",
    "          (\"Walloon Brabant\", 1300, 1499),\n",
    "          (\"Flemish Brabant\", 1500, 1999),\n",
    "          (\"Antwerp\", 2000, 2999),\n",
    "          (\"Flemish Brabant\", 3000, 3499),\n",
    "          (\"Limburg\", 3500, 3999),\n",
    "          (\"Liege\", 4000, 4999),\n",
    "          (\"Namur\", 5000, 5999),\n",
    "          (\"Hainaut\", 6000, 6599),\n",
    "          (\"Luxembourg\", 6600, 6999),\n",
    "          (\"Hainaut\", 7000, 7999),\n",
    "          (\"West Flanders\", 8000, 8999),\n",
    "          (\"East Flanders\", 9000, 9999))\n",
    "\n",
    "def find_province(postalCode):\n",
    "    for _tuple in codes:\n",
    "        if _tuple[1] <= postalCode <= _tuple[2]:\n",
    "            return _tuple[0]\n",
    "    return np.nan\n",
    "\n",
    "province = df.postalCode.apply(find_province)\n",
    "df['Province'] = province"
   ]
  },
  {
   "cell_type": "code",
   "execution_count": 293,
   "id": "6323e091-8d54-4324-a8d1-8462f99f7dfa",
   "metadata": {},
   "outputs": [],
   "source": [
    "# Here, we are getting rid of postalCode with too few data points\n",
    "postalcodes = df.groupby(['postalCode']).count().query(\"type > 10\").index"
   ]
  },
  {
   "cell_type": "code",
   "execution_count": 294,
   "id": "f839a156-94b3-41cf-bf6d-f1cd4aa6b6f1",
   "metadata": {},
   "outputs": [
    {
     "data": {
      "text/plain": [
       "12123"
      ]
     },
     "execution_count": 294,
     "metadata": {},
     "output_type": "execute_result"
    }
   ],
   "source": [
    "df = df[df.postalCode.isin(postalcodes)]\n",
    "len(df)"
   ]
  },
  {
   "cell_type": "code",
   "execution_count": null,
   "id": "00dddf91-6676-4126-9d7e-33c62c8b9528",
   "metadata": {},
   "outputs": [],
   "source": []
  },
  {
   "cell_type": "markdown",
   "id": "01a679c5-3dfb-4cf7-9364-79d692222511",
   "metadata": {},
   "source": [
    "## Machine Learning"
   ]
  },
  {
   "cell_type": "code",
   "execution_count": 295,
   "id": "fb978f3d-be95-43b4-aa6f-8196a14c39ae",
   "metadata": {},
   "outputs": [],
   "source": [
    "from sklearn.model_selection import train_test_split\n",
    "from sklearn.model_selection import cross_val_score\n",
    "from sklearn.model_selection import RepeatedKFold\n",
    "from sklearn.model_selection import GridSearchCV\n",
    "from sklearn.ensemble import RandomForestRegressor\n",
    "from sklearn.preprocessing import RobustScaler\n",
    "from sklearn.preprocessing import MinMaxScaler\n",
    "from sklearn.preprocessing import StandardScaler\n",
    "from sklearn.preprocessing import power_transform\n",
    "from sklearn.linear_model import ElasticNet\n",
    "from sklearn.linear_model import LinearRegression\n",
    "from sklearn.pipeline import Pipeline\n",
    "from sklearn.metrics import mean_absolute_error\n",
    "from sklearn.metrics import mean_squared_error\n",
    "from sklearn.metrics import r2_score\n",
    "from scipy import stats"
   ]
  },
  {
   "cell_type": "code",
   "execution_count": 296,
   "id": "1845dd46-d4c1-441d-8245-9bd3f46fc6ad",
   "metadata": {},
   "outputs": [
    {
     "data": {
      "text/plain": [
       "(12123, 325)"
      ]
     },
     "execution_count": 296,
     "metadata": {},
     "output_type": "execute_result"
    }
   ],
   "source": [
    "s = df.postalCode\n",
    "codes = pd.get_dummies(s, drop_first=True)\n",
    "df.drop(['postalCode', 'locality'], axis=1, inplace=True)\n",
    "codes.shape"
   ]
  },
  {
   "cell_type": "code",
   "execution_count": 297,
   "id": "54c11f36-aff2-4d06-bb12-732975770437",
   "metadata": {},
   "outputs": [
    {
     "data": {
      "text/plain": [
       "(12123, 21)"
      ]
     },
     "execution_count": 297,
     "metadata": {},
     "output_type": "execute_result"
    }
   ],
   "source": [
    "s = df.subtype\n",
    "subtypes = pd.get_dummies(s, drop_first=True)\n",
    "df.drop(['subtype'], axis=1, inplace=True)\n",
    "subtypes.shape"
   ]
  },
  {
   "cell_type": "code",
   "execution_count": 298,
   "id": "58c26925-c601-4d34-95d9-f87d9fc46c5b",
   "metadata": {},
   "outputs": [
    {
     "data": {
      "text/plain": [
       "(12123, 10)"
      ]
     },
     "execution_count": 298,
     "metadata": {},
     "output_type": "execute_result"
    }
   ],
   "source": [
    "s = df.Province\n",
    "provinces = pd.get_dummies(s, drop_first=True)\n",
    "df.drop(['Province'], axis=1, inplace=True)\n",
    "provinces.shape"
   ]
  },
  {
   "cell_type": "code",
   "execution_count": 299,
   "id": "6d08d2c8-ff47-47a0-a2e2-9f7d6157995a",
   "metadata": {},
   "outputs": [],
   "source": [
    "belgium = pd.concat([df, provinces], axis=1)\n",
    "\n",
    "# Not using some of the features\n",
    "belgium.drop(['condition', 'fireplaceExists'], axis=1, inplace=True)"
   ]
  },
  {
   "cell_type": "code",
   "execution_count": 300,
   "id": "ab19e4e1-eb85-4f5f-84e0-745af7d159d6",
   "metadata": {},
   "outputs": [],
   "source": [
    "# belgium = belgium[(np.abs(stats.zscore(belgium['price'])) < 3)]\n",
    "# belgium = belgium[(np.abs(stats.zscore(belgium['bedroomCount'])) < 3)]\n",
    "\n",
    "# Getting rid of future outliers when using log-values\n",
    "belgium = belgium.sort_values('price').iloc[9:-10,:]\n",
    "\n",
    "price = np.array(belgium.price)\n",
    "data = belgium.drop('price', axis=1)"
   ]
  },
  {
   "cell_type": "code",
   "execution_count": 301,
   "id": "8c4974f7-b528-4ef2-9eac-4510bd75afb2",
   "metadata": {},
   "outputs": [
    {
     "name": "stdout",
     "output_type": "stream",
     "text": [
      "12104\n"
     ]
    },
    {
     "data": {
      "text/html": [
       "<div>\n",
       "<style scoped>\n",
       "    .dataframe tbody tr th:only-of-type {\n",
       "        vertical-align: middle;\n",
       "    }\n",
       "\n",
       "    .dataframe tbody tr th {\n",
       "        vertical-align: top;\n",
       "    }\n",
       "\n",
       "    .dataframe thead th {\n",
       "        text-align: right;\n",
       "    }\n",
       "</style>\n",
       "<table border=\"1\" class=\"dataframe\">\n",
       "  <thead>\n",
       "    <tr style=\"text-align: right;\">\n",
       "      <th></th>\n",
       "      <th>type</th>\n",
       "      <th>price</th>\n",
       "      <th>bedroomCount</th>\n",
       "      <th>netHabitableSurface</th>\n",
       "      <th>full_kitchen</th>\n",
       "      <th>hasTerrace</th>\n",
       "      <th>hasGarden</th>\n",
       "      <th>hasSwimmingPool</th>\n",
       "      <th>Brussels Capital Region</th>\n",
       "      <th>East Flanders</th>\n",
       "      <th>Flemish Brabant</th>\n",
       "      <th>Hainaut</th>\n",
       "      <th>Liege</th>\n",
       "      <th>Limburg</th>\n",
       "      <th>Luxembourg</th>\n",
       "      <th>Namur</th>\n",
       "      <th>Walloon Brabant</th>\n",
       "      <th>West Flanders</th>\n",
       "    </tr>\n",
       "    <tr>\n",
       "      <th>index</th>\n",
       "      <th></th>\n",
       "      <th></th>\n",
       "      <th></th>\n",
       "      <th></th>\n",
       "      <th></th>\n",
       "      <th></th>\n",
       "      <th></th>\n",
       "      <th></th>\n",
       "      <th></th>\n",
       "      <th></th>\n",
       "      <th></th>\n",
       "      <th></th>\n",
       "      <th></th>\n",
       "      <th></th>\n",
       "      <th></th>\n",
       "      <th></th>\n",
       "      <th></th>\n",
       "      <th></th>\n",
       "    </tr>\n",
       "  </thead>\n",
       "  <tbody>\n",
       "    <tr>\n",
       "      <th>7604</th>\n",
       "      <td>1</td>\n",
       "      <td>30000.0</td>\n",
       "      <td>2.0</td>\n",
       "      <td>80.0</td>\n",
       "      <td>0</td>\n",
       "      <td>0</td>\n",
       "      <td>0</td>\n",
       "      <td>0.0</td>\n",
       "      <td>0</td>\n",
       "      <td>0</td>\n",
       "      <td>0</td>\n",
       "      <td>0</td>\n",
       "      <td>0</td>\n",
       "      <td>0</td>\n",
       "      <td>0</td>\n",
       "      <td>0</td>\n",
       "      <td>0</td>\n",
       "      <td>0</td>\n",
       "    </tr>\n",
       "    <tr>\n",
       "      <th>16790</th>\n",
       "      <td>0</td>\n",
       "      <td>30000.0</td>\n",
       "      <td>2.0</td>\n",
       "      <td>110.0</td>\n",
       "      <td>1</td>\n",
       "      <td>1</td>\n",
       "      <td>0</td>\n",
       "      <td>0.0</td>\n",
       "      <td>0</td>\n",
       "      <td>0</td>\n",
       "      <td>0</td>\n",
       "      <td>0</td>\n",
       "      <td>1</td>\n",
       "      <td>0</td>\n",
       "      <td>0</td>\n",
       "      <td>0</td>\n",
       "      <td>0</td>\n",
       "      <td>0</td>\n",
       "    </tr>\n",
       "    <tr>\n",
       "      <th>7665</th>\n",
       "      <td>1</td>\n",
       "      <td>39000.0</td>\n",
       "      <td>2.0</td>\n",
       "      <td>47.0</td>\n",
       "      <td>0</td>\n",
       "      <td>1</td>\n",
       "      <td>1</td>\n",
       "      <td>0.0</td>\n",
       "      <td>0</td>\n",
       "      <td>0</td>\n",
       "      <td>0</td>\n",
       "      <td>0</td>\n",
       "      <td>0</td>\n",
       "      <td>0</td>\n",
       "      <td>0</td>\n",
       "      <td>1</td>\n",
       "      <td>0</td>\n",
       "      <td>0</td>\n",
       "    </tr>\n",
       "    <tr>\n",
       "      <th>274</th>\n",
       "      <td>1</td>\n",
       "      <td>40000.0</td>\n",
       "      <td>3.0</td>\n",
       "      <td>138.0</td>\n",
       "      <td>0</td>\n",
       "      <td>0</td>\n",
       "      <td>1</td>\n",
       "      <td>0.0</td>\n",
       "      <td>0</td>\n",
       "      <td>0</td>\n",
       "      <td>0</td>\n",
       "      <td>1</td>\n",
       "      <td>0</td>\n",
       "      <td>0</td>\n",
       "      <td>0</td>\n",
       "      <td>0</td>\n",
       "      <td>0</td>\n",
       "      <td>0</td>\n",
       "    </tr>\n",
       "    <tr>\n",
       "      <th>7191</th>\n",
       "      <td>1</td>\n",
       "      <td>40000.0</td>\n",
       "      <td>5.0</td>\n",
       "      <td>165.0</td>\n",
       "      <td>0</td>\n",
       "      <td>0</td>\n",
       "      <td>1</td>\n",
       "      <td>0.0</td>\n",
       "      <td>0</td>\n",
       "      <td>0</td>\n",
       "      <td>0</td>\n",
       "      <td>0</td>\n",
       "      <td>1</td>\n",
       "      <td>0</td>\n",
       "      <td>0</td>\n",
       "      <td>0</td>\n",
       "      <td>0</td>\n",
       "      <td>0</td>\n",
       "    </tr>\n",
       "    <tr>\n",
       "      <th>3917</th>\n",
       "      <td>1</td>\n",
       "      <td>40000.0</td>\n",
       "      <td>2.0</td>\n",
       "      <td>155.0</td>\n",
       "      <td>0</td>\n",
       "      <td>0</td>\n",
       "      <td>0</td>\n",
       "      <td>0.0</td>\n",
       "      <td>0</td>\n",
       "      <td>0</td>\n",
       "      <td>0</td>\n",
       "      <td>1</td>\n",
       "      <td>0</td>\n",
       "      <td>0</td>\n",
       "      <td>0</td>\n",
       "      <td>0</td>\n",
       "      <td>0</td>\n",
       "      <td>0</td>\n",
       "    </tr>\n",
       "    <tr>\n",
       "      <th>17847</th>\n",
       "      <td>0</td>\n",
       "      <td>40000.0</td>\n",
       "      <td>1.0</td>\n",
       "      <td>24.0</td>\n",
       "      <td>0</td>\n",
       "      <td>0</td>\n",
       "      <td>0</td>\n",
       "      <td>0.0</td>\n",
       "      <td>0</td>\n",
       "      <td>0</td>\n",
       "      <td>0</td>\n",
       "      <td>0</td>\n",
       "      <td>0</td>\n",
       "      <td>0</td>\n",
       "      <td>0</td>\n",
       "      <td>1</td>\n",
       "      <td>0</td>\n",
       "      <td>0</td>\n",
       "    </tr>\n",
       "    <tr>\n",
       "      <th>9030</th>\n",
       "      <td>1</td>\n",
       "      <td>41922.0</td>\n",
       "      <td>1.0</td>\n",
       "      <td>40.0</td>\n",
       "      <td>0</td>\n",
       "      <td>0</td>\n",
       "      <td>0</td>\n",
       "      <td>0.0</td>\n",
       "      <td>0</td>\n",
       "      <td>0</td>\n",
       "      <td>0</td>\n",
       "      <td>0</td>\n",
       "      <td>0</td>\n",
       "      <td>0</td>\n",
       "      <td>0</td>\n",
       "      <td>0</td>\n",
       "      <td>0</td>\n",
       "      <td>0</td>\n",
       "    </tr>\n",
       "    <tr>\n",
       "      <th>12287</th>\n",
       "      <td>0</td>\n",
       "      <td>45000.0</td>\n",
       "      <td>1.0</td>\n",
       "      <td>43.0</td>\n",
       "      <td>1</td>\n",
       "      <td>0</td>\n",
       "      <td>0</td>\n",
       "      <td>0.0</td>\n",
       "      <td>0</td>\n",
       "      <td>0</td>\n",
       "      <td>0</td>\n",
       "      <td>1</td>\n",
       "      <td>0</td>\n",
       "      <td>0</td>\n",
       "      <td>0</td>\n",
       "      <td>0</td>\n",
       "      <td>0</td>\n",
       "      <td>0</td>\n",
       "    </tr>\n",
       "    <tr>\n",
       "      <th>2475</th>\n",
       "      <td>1</td>\n",
       "      <td>45000.0</td>\n",
       "      <td>1.0</td>\n",
       "      <td>70.0</td>\n",
       "      <td>0</td>\n",
       "      <td>0</td>\n",
       "      <td>0</td>\n",
       "      <td>0.0</td>\n",
       "      <td>0</td>\n",
       "      <td>0</td>\n",
       "      <td>0</td>\n",
       "      <td>1</td>\n",
       "      <td>0</td>\n",
       "      <td>0</td>\n",
       "      <td>0</td>\n",
       "      <td>0</td>\n",
       "      <td>0</td>\n",
       "      <td>0</td>\n",
       "    </tr>\n",
       "  </tbody>\n",
       "</table>\n",
       "</div>"
      ],
      "text/plain": [
       "       type    price  bedroomCount  netHabitableSurface  full_kitchen  \\\n",
       "index                                                                   \n",
       "7604      1  30000.0           2.0                 80.0             0   \n",
       "16790     0  30000.0           2.0                110.0             1   \n",
       "7665      1  39000.0           2.0                 47.0             0   \n",
       "274       1  40000.0           3.0                138.0             0   \n",
       "7191      1  40000.0           5.0                165.0             0   \n",
       "3917      1  40000.0           2.0                155.0             0   \n",
       "17847     0  40000.0           1.0                 24.0             0   \n",
       "9030      1  41922.0           1.0                 40.0             0   \n",
       "12287     0  45000.0           1.0                 43.0             1   \n",
       "2475      1  45000.0           1.0                 70.0             0   \n",
       "\n",
       "       hasTerrace  hasGarden  hasSwimmingPool  Brussels Capital Region  \\\n",
       "index                                                                    \n",
       "7604            0          0              0.0                        0   \n",
       "16790           1          0              0.0                        0   \n",
       "7665            1          1              0.0                        0   \n",
       "274             0          1              0.0                        0   \n",
       "7191            0          1              0.0                        0   \n",
       "3917            0          0              0.0                        0   \n",
       "17847           0          0              0.0                        0   \n",
       "9030            0          0              0.0                        0   \n",
       "12287           0          0              0.0                        0   \n",
       "2475            0          0              0.0                        0   \n",
       "\n",
       "       East Flanders  Flemish Brabant  Hainaut  Liege  Limburg  Luxembourg  \\\n",
       "index                                                                        \n",
       "7604               0                0        0      0        0           0   \n",
       "16790              0                0        0      1        0           0   \n",
       "7665               0                0        0      0        0           0   \n",
       "274                0                0        1      0        0           0   \n",
       "7191               0                0        0      1        0           0   \n",
       "3917               0                0        1      0        0           0   \n",
       "17847              0                0        0      0        0           0   \n",
       "9030               0                0        0      0        0           0   \n",
       "12287              0                0        1      0        0           0   \n",
       "2475               0                0        1      0        0           0   \n",
       "\n",
       "       Namur  Walloon Brabant  West Flanders  \n",
       "index                                         \n",
       "7604       0                0              0  \n",
       "16790      0                0              0  \n",
       "7665       1                0              0  \n",
       "274        0                0              0  \n",
       "7191       0                0              0  \n",
       "3917       0                0              0  \n",
       "17847      1                0              0  \n",
       "9030       0                0              0  \n",
       "12287      0                0              0  \n",
       "2475       0                0              0  "
      ]
     },
     "execution_count": 301,
     "metadata": {},
     "output_type": "execute_result"
    }
   ],
   "source": [
    "print(len(belgium))\n",
    "belgium.sort_values('price').head(10)"
   ]
  },
  {
   "cell_type": "code",
   "execution_count": 302,
   "id": "ed1877d3-9603-44c7-a188-ec1ac57c08ee",
   "metadata": {},
   "outputs": [
    {
     "data": {
      "text/html": [
       "<div>\n",
       "<style scoped>\n",
       "    .dataframe tbody tr th:only-of-type {\n",
       "        vertical-align: middle;\n",
       "    }\n",
       "\n",
       "    .dataframe tbody tr th {\n",
       "        vertical-align: top;\n",
       "    }\n",
       "\n",
       "    .dataframe thead th {\n",
       "        text-align: right;\n",
       "    }\n",
       "</style>\n",
       "<table border=\"1\" class=\"dataframe\">\n",
       "  <thead>\n",
       "    <tr style=\"text-align: right;\">\n",
       "      <th></th>\n",
       "      <th>type</th>\n",
       "      <th>bedroomCount</th>\n",
       "      <th>netHabitableSurface</th>\n",
       "      <th>full_kitchen</th>\n",
       "      <th>hasTerrace</th>\n",
       "      <th>hasGarden</th>\n",
       "      <th>hasSwimmingPool</th>\n",
       "      <th>Brussels Capital Region</th>\n",
       "      <th>East Flanders</th>\n",
       "      <th>Flemish Brabant</th>\n",
       "      <th>Hainaut</th>\n",
       "      <th>Liege</th>\n",
       "      <th>Limburg</th>\n",
       "      <th>Luxembourg</th>\n",
       "      <th>Namur</th>\n",
       "      <th>Walloon Brabant</th>\n",
       "      <th>West Flanders</th>\n",
       "    </tr>\n",
       "    <tr>\n",
       "      <th>index</th>\n",
       "      <th></th>\n",
       "      <th></th>\n",
       "      <th></th>\n",
       "      <th></th>\n",
       "      <th></th>\n",
       "      <th></th>\n",
       "      <th></th>\n",
       "      <th></th>\n",
       "      <th></th>\n",
       "      <th></th>\n",
       "      <th></th>\n",
       "      <th></th>\n",
       "      <th></th>\n",
       "      <th></th>\n",
       "      <th></th>\n",
       "      <th></th>\n",
       "      <th></th>\n",
       "    </tr>\n",
       "  </thead>\n",
       "  <tbody>\n",
       "    <tr>\n",
       "      <th>7604</th>\n",
       "      <td>1</td>\n",
       "      <td>2.0</td>\n",
       "      <td>80.0</td>\n",
       "      <td>0</td>\n",
       "      <td>0</td>\n",
       "      <td>0</td>\n",
       "      <td>0.0</td>\n",
       "      <td>0</td>\n",
       "      <td>0</td>\n",
       "      <td>0</td>\n",
       "      <td>0</td>\n",
       "      <td>0</td>\n",
       "      <td>0</td>\n",
       "      <td>0</td>\n",
       "      <td>0</td>\n",
       "      <td>0</td>\n",
       "      <td>0</td>\n",
       "    </tr>\n",
       "    <tr>\n",
       "      <th>16790</th>\n",
       "      <td>0</td>\n",
       "      <td>2.0</td>\n",
       "      <td>110.0</td>\n",
       "      <td>1</td>\n",
       "      <td>1</td>\n",
       "      <td>0</td>\n",
       "      <td>0.0</td>\n",
       "      <td>0</td>\n",
       "      <td>0</td>\n",
       "      <td>0</td>\n",
       "      <td>0</td>\n",
       "      <td>1</td>\n",
       "      <td>0</td>\n",
       "      <td>0</td>\n",
       "      <td>0</td>\n",
       "      <td>0</td>\n",
       "      <td>0</td>\n",
       "    </tr>\n",
       "    <tr>\n",
       "      <th>7665</th>\n",
       "      <td>1</td>\n",
       "      <td>2.0</td>\n",
       "      <td>47.0</td>\n",
       "      <td>0</td>\n",
       "      <td>1</td>\n",
       "      <td>1</td>\n",
       "      <td>0.0</td>\n",
       "      <td>0</td>\n",
       "      <td>0</td>\n",
       "      <td>0</td>\n",
       "      <td>0</td>\n",
       "      <td>0</td>\n",
       "      <td>0</td>\n",
       "      <td>0</td>\n",
       "      <td>1</td>\n",
       "      <td>0</td>\n",
       "      <td>0</td>\n",
       "    </tr>\n",
       "    <tr>\n",
       "      <th>274</th>\n",
       "      <td>1</td>\n",
       "      <td>3.0</td>\n",
       "      <td>138.0</td>\n",
       "      <td>0</td>\n",
       "      <td>0</td>\n",
       "      <td>1</td>\n",
       "      <td>0.0</td>\n",
       "      <td>0</td>\n",
       "      <td>0</td>\n",
       "      <td>0</td>\n",
       "      <td>1</td>\n",
       "      <td>0</td>\n",
       "      <td>0</td>\n",
       "      <td>0</td>\n",
       "      <td>0</td>\n",
       "      <td>0</td>\n",
       "      <td>0</td>\n",
       "    </tr>\n",
       "    <tr>\n",
       "      <th>7191</th>\n",
       "      <td>1</td>\n",
       "      <td>5.0</td>\n",
       "      <td>165.0</td>\n",
       "      <td>0</td>\n",
       "      <td>0</td>\n",
       "      <td>1</td>\n",
       "      <td>0.0</td>\n",
       "      <td>0</td>\n",
       "      <td>0</td>\n",
       "      <td>0</td>\n",
       "      <td>0</td>\n",
       "      <td>1</td>\n",
       "      <td>0</td>\n",
       "      <td>0</td>\n",
       "      <td>0</td>\n",
       "      <td>0</td>\n",
       "      <td>0</td>\n",
       "    </tr>\n",
       "  </tbody>\n",
       "</table>\n",
       "</div>"
      ],
      "text/plain": [
       "       type  bedroomCount  netHabitableSurface  full_kitchen  hasTerrace  \\\n",
       "index                                                                      \n",
       "7604      1           2.0                 80.0             0           0   \n",
       "16790     0           2.0                110.0             1           1   \n",
       "7665      1           2.0                 47.0             0           1   \n",
       "274       1           3.0                138.0             0           0   \n",
       "7191      1           5.0                165.0             0           0   \n",
       "\n",
       "       hasGarden  hasSwimmingPool  Brussels Capital Region  East Flanders  \\\n",
       "index                                                                       \n",
       "7604           0              0.0                        0              0   \n",
       "16790          0              0.0                        0              0   \n",
       "7665           1              0.0                        0              0   \n",
       "274            1              0.0                        0              0   \n",
       "7191           1              0.0                        0              0   \n",
       "\n",
       "       Flemish Brabant  Hainaut  Liege  Limburg  Luxembourg  Namur  \\\n",
       "index                                                                \n",
       "7604                 0        0      0        0           0      0   \n",
       "16790                0        0      1        0           0      0   \n",
       "7665                 0        0      0        0           0      1   \n",
       "274                  0        1      0        0           0      0   \n",
       "7191                 0        0      1        0           0      0   \n",
       "\n",
       "       Walloon Brabant  West Flanders  \n",
       "index                                  \n",
       "7604                 0              0  \n",
       "16790                0              0  \n",
       "7665                 0              0  \n",
       "274                  0              0  \n",
       "7191                 0              0  "
      ]
     },
     "execution_count": 302,
     "metadata": {},
     "output_type": "execute_result"
    }
   ],
   "source": [
    "y_box = np.ravel(power_transform(price.reshape(-1, 1), method='box-cox'))\n",
    "y = price\n",
    "y_log = np.log(price)\n",
    "X = data\n",
    "X.head()"
   ]
  },
  {
   "cell_type": "code",
   "execution_count": 303,
   "id": "ec4202c2-2097-4c8b-942e-77724fd58a80",
   "metadata": {},
   "outputs": [],
   "source": [
    "scaler = RobustScaler()"
   ]
  },
  {
   "cell_type": "code",
   "execution_count": 304,
   "id": "5793fcd8-8494-4e8d-8d83-aecad1a8c060",
   "metadata": {},
   "outputs": [],
   "source": [
    "model = RandomForestRegressor(random_state=0)"
   ]
  },
  {
   "cell_type": "code",
   "execution_count": 305,
   "id": "65f664c9-bb97-42d1-9ae6-95c47437794c",
   "metadata": {},
   "outputs": [],
   "source": [
    "Kfolds = RepeatedKFold(n_splits=5, n_repeats=1, random_state=21)"
   ]
  },
  {
   "cell_type": "code",
   "execution_count": 306,
   "id": "7ed47d0b-0eff-40c7-a50c-44996fd87ec0",
   "metadata": {},
   "outputs": [],
   "source": [
    "def my_pipe(scaler, model, Kfolds, X, y):\n",
    "    \n",
    "    X_train, X_test, y_train, y_test = train_test_split(X, y, test_size=0.25, random_state=0)\n",
    "    scaler.fit(X_train)\n",
    "    X_train = scaler.transform(X_train)\n",
    "    X_test = scaler.transform(X_test)\n",
    "    \n",
    "    params_en = {\n",
    "        'min_samples_split' : [8, 10],\n",
    "        'max_features' : ['log2']\n",
    "    }\n",
    "\n",
    "    results = GridSearchCV(model, param_grid=params_en, cv=Kfolds, scoring=['r2', 'neg_mean_absolute_error', 'neg_mean_squared_error'], n_jobs=-1, verbose=1, refit='r2').fit(X_train, y_train)\n",
    "    y_predict = results.predict(X_test)\n",
    "\n",
    "    print(results.best_score_, results.best_params_)\n",
    "    \n",
    "    adj_R2 = 1-(1-r2_score(y_test, y_predict))*((len(X_test)-1)/(len(X_test)-len(X_test[0])-1))\n",
    "    \n",
    "    print(r2_score(y_test, y_predict), adj_R2)\n",
    "\n",
    "    sns.residplot(x=y_test, y=y_predict)\n",
    "    \n",
    "    return results"
   ]
  },
  {
   "cell_type": "code",
   "execution_count": 307,
   "id": "7864d22e-529b-496f-b5cb-ebc5cf507992",
   "metadata": {},
   "outputs": [
    {
     "name": "stdout",
     "output_type": "stream",
     "text": [
      "Fitting 5 folds for each of 2 candidates, totalling 10 fits\n",
      "0.5591578856537567 {'max_features': 'log2', 'min_samples_split': 8}\n",
      "0.5726132756952186 0.5701978587028047\n"
     ]
    },
    {
     "data": {
      "image/png": "[encoded data removed]",
      "text/plain": [
       "<Figure size 432x288 with 1 Axes>"
      ]
     },
     "metadata": {
      "needs_background": "light"
     },
     "output_type": "display_data"
    }
   ],
   "source": [
    "results_nolog = my_pipe(scaler, model, Kfolds, X, y)"
   ]
  },
  {
   "cell_type": "code",
   "execution_count": 308,
   "id": "ca0c3b86-3152-41f9-b313-69ade6af9694",
   "metadata": {},
   "outputs": [
    {
     "name": "stdout",
     "output_type": "stream",
     "text": [
      "Fitting 5 folds for each of 2 candidates, totalling 10 fits\n",
      "0.6351426636742572 {'max_features': 'log2', 'min_samples_split': 10}\n",
      "0.6273315269410813 0.6252253553845648\n"
     ]
    },
    {
     "data": {
      "image/png": "[encoded data removed]",
      "text/plain": [
       "<Figure size 432x288 with 1 Axes>"
      ]
     },
     "metadata": {
      "needs_background": "light"
     },
     "output_type": "display_data"
    }
   ],
   "source": [
    "results = my_pipe(scaler, model, Kfolds, X, y_log)"
   ]
  },
  {
   "cell_type": "markdown",
   "id": "4ded67ec-60c8-41c6-8824-d61c85f32f1a",
   "metadata": {},
   "source": [
    "As we can see, training the RandomForestRegressor on the target leads to a residual plot with a noticeable heteroscedasticity; using the log of the target removes the increasing correlated variance, and improves the r2 score. The score is still quite low, but that is probably due to either: \n",
    "1) Issues during the scraping (some values were not properly gathered and the dataset is not good enough)\n",
    "2) Issues in the cleaning (either too many rows or features were dropped, or some inferences for value replacement were not valid)\n",
    "3) Issues stemming from features interacting with one another (bedroomCount and netHabitableSurface for instance)."
   ]
  },
  {
   "cell_type": "code",
   "execution_count": 152,
   "id": "d1feffd2-e971-40ca-89f4-23cd701e2f55",
   "metadata": {},
   "outputs": [],
   "source": [
    "X_train, X_test, y_train, y_test = train_test_split(X, y, test_size=0.25, random_state=0)\n",
    "y_predict = results.predict(X_test)"
   ]
  },
  {
   "cell_type": "code",
   "execution_count": 153,
   "id": "af6ba66b-0504-41fe-8677-b36413509dce",
   "metadata": {
    "tags": []
   },
   "outputs": [
    {
     "name": "stdout",
     "output_type": "stream",
     "text": [
      "[0.00463176 0.09309391 0.86958789 0.00601828 0.00845274 0.0065643\n",
      " 0.0049734  0.00667771]\n"
     ]
    },
    {
     "data": {
      "image/png": "[encoded data removed]",
      "text/plain": [
       "<Figure size 432x288 with 1 Axes>"
      ]
     },
     "metadata": {
      "needs_background": "light"
     },
     "output_type": "display_data"
    }
   ],
   "source": [
    "from sklearn.ensemble import ExtraTreesClassifier\n",
    "\n",
    "model = ExtraTreesClassifier()\n",
    "X = df.copy()\n",
    "y = np.array(X.price)\n",
    "X.drop(['price', 'condition'], axis=1, inplace=True)\n",
    "model.fit(X,y)\n",
    "print(model.feature_importances_) #use inbuilt class feature_importances of tree based classifiers\n",
    "#plot graph of feature importances for better visualization\n",
    "feat_importances = pd.Series(model.feature_importances_, index=X.columns)\n",
    "feat_importances.nlargest(10).plot(kind='barh')\n",
    "plt.show()"
   ]
  },
  {
   "cell_type": "code",
   "execution_count": 154,
   "id": "50aeabcd-be85-49e3-b214-aa756311f253",
   "metadata": {},
   "outputs": [],
   "source": [
    "X = belgium[['netHabitableSurface']]\n",
    "y = belgium.price"
   ]
  },
  {
   "cell_type": "code",
   "execution_count": 155,
   "id": "041cccc0-1ba8-461e-b9b7-aa7deb4498bc",
   "metadata": {},
   "outputs": [
    {
     "data": {
      "text/html": [
       "<div>\n",
       "<style scoped>\n",
       "    .dataframe tbody tr th:only-of-type {\n",
       "        vertical-align: middle;\n",
       "    }\n",
       "\n",
       "    .dataframe tbody tr th {\n",
       "        vertical-align: top;\n",
       "    }\n",
       "\n",
       "    .dataframe thead th {\n",
       "        text-align: right;\n",
       "    }\n",
       "</style>\n",
       "<table border=\"1\" class=\"dataframe\">\n",
       "  <thead>\n",
       "    <tr style=\"text-align: right;\">\n",
       "      <th></th>\n",
       "      <th>netHabitableSurface</th>\n",
       "    </tr>\n",
       "    <tr>\n",
       "      <th>index</th>\n",
       "      <th></th>\n",
       "    </tr>\n",
       "  </thead>\n",
       "  <tbody>\n",
       "    <tr>\n",
       "      <th>7604</th>\n",
       "      <td>80.0</td>\n",
       "    </tr>\n",
       "    <tr>\n",
       "      <th>16790</th>\n",
       "      <td>110.0</td>\n",
       "    </tr>\n",
       "    <tr>\n",
       "      <th>7665</th>\n",
       "      <td>47.0</td>\n",
       "    </tr>\n",
       "    <tr>\n",
       "      <th>274</th>\n",
       "      <td>138.0</td>\n",
       "    </tr>\n",
       "    <tr>\n",
       "      <th>7191</th>\n",
       "      <td>165.0</td>\n",
       "    </tr>\n",
       "    <tr>\n",
       "      <th>...</th>\n",
       "      <td>...</td>\n",
       "    </tr>\n",
       "    <tr>\n",
       "      <th>10319</th>\n",
       "      <td>252.0</td>\n",
       "    </tr>\n",
       "    <tr>\n",
       "      <th>9932</th>\n",
       "      <td>163.0</td>\n",
       "    </tr>\n",
       "    <tr>\n",
       "      <th>5589</th>\n",
       "      <td>450.0</td>\n",
       "    </tr>\n",
       "    <tr>\n",
       "      <th>2598</th>\n",
       "      <td>1079.0</td>\n",
       "    </tr>\n",
       "    <tr>\n",
       "      <th>3345</th>\n",
       "      <td>1500.0</td>\n",
       "    </tr>\n",
       "  </tbody>\n",
       "</table>\n",
       "<p>12104 rows × 1 columns</p>\n",
       "</div>"
      ],
      "text/plain": [
       "       netHabitableSurface\n",
       "index                     \n",
       "7604                  80.0\n",
       "16790                110.0\n",
       "7665                  47.0\n",
       "274                  138.0\n",
       "7191                 165.0\n",
       "...                    ...\n",
       "10319                252.0\n",
       "9932                 163.0\n",
       "5589                 450.0\n",
       "2598                1079.0\n",
       "3345                1500.0\n",
       "\n",
       "[12104 rows x 1 columns]"
      ]
     },
     "execution_count": 155,
     "metadata": {},
     "output_type": "execute_result"
    }
   ],
   "source": [
    "X"
   ]
  },
  {
   "cell_type": "code",
   "execution_count": 156,
   "id": "743eecbb-f11c-49e3-9334-49f5f028955b",
   "metadata": {},
   "outputs": [
    {
     "name": "stdout",
     "output_type": "stream",
     "text": [
      "0.34101847010147934\n"
     ]
    },
    {
     "data": {
      "text/plain": [
       "<AxesSubplot:xlabel='price'>"
      ]
     },
     "execution_count": 156,
     "metadata": {},
     "output_type": "execute_result"
    },
    {
     "data": {
      "image/png": "[encoded data removed]",
      "text/plain": [
       "<Figure size 432x288 with 1 Axes>"
      ]
     },
     "metadata": {
      "needs_background": "light"
     },
     "output_type": "display_data"
    }
   ],
   "source": [
    "regressor = LinearRegression()\n",
    "\n",
    "\n",
    "X_train, X_test, y_train, y_test = train_test_split(X, np.log(y), test_size=0.25, random_state=0)\n",
    "scaler.fit(X_train)\n",
    "X_train = scaler.transform(X_train)\n",
    "X_test = scaler.transform(X_test)\n",
    "\n",
    "regressor.fit(X_train,y_train)\n",
    "\n",
    "y_predict = regressor.predict(X_test)\n",
    "\n",
    "print(r2_score(y_test, y_predict))\n",
    "\n",
    "\n",
    "sns.residplot(x=y_test, y=y_predict)"
   ]
  },
  {
   "cell_type": "code",
   "execution_count": null,
   "id": "1484f7e6-88db-4be2-825b-826e256e50dd",
   "metadata": {},
   "outputs": [],
   "source": []
  },
  {
   "cell_type": "code",
   "execution_count": null,
   "id": "de6767de-9fcb-4ac4-9599-175c8590a1e3",
   "metadata": {},
   "outputs": [],
   "source": []
  }
 ],
 "metadata": {
  "kernelspec": {
   "display_name": "Python 3",
   "language": "python",
   "name": "python3"
  },
  "language_info": {
   "codemirror_mode": {
    "name": "ipython",
    "version": 3
   },
   "file_extension": ".py",
   "mimetype": "text/x-python",
   "name": "python",
   "nbconvert_exporter": "python",
   "pygments_lexer": "ipython3",
   "version": "3.8.4rc1"
  }
 },
 "nbformat": 4,
 "nbformat_minor": 5
}
